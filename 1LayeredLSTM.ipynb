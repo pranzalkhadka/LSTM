{
  "cells": [
    {
      "cell_type": "code",
      "execution_count": 13,
      "metadata": {
        "colab": {
          "base_uri": "https://localhost:8080/"
        },
        "id": "KpVebvzrJHrt",
        "outputId": "1a37d234-139a-455d-aad0-271b415ef1c8"
      },
      "outputs": [
        {
          "output_type": "stream",
          "name": "stderr",
          "text": [
            "WARNING:absl:TFDS datasets with text encoding are deprecated and will be removed in a future version. Instead, you should use the plain text version and tokenize the text using `tensorflow_text` (See: https://www.tensorflow.org/tutorials/tensorflow_text/intro#tfdata_example)\n"
          ]
        }
      ],
      "source": [
        "import tensorflow_datasets as tfds\n",
        "\n",
        "dataset, info = tfds.load('imdb_reviews/subwords8k', with_info=True, as_supervised=True)"
      ]
    },
    {
      "cell_type": "code",
      "execution_count": 14,
      "metadata": {
        "id": "hRMO04vmJrfK"
      },
      "outputs": [],
      "source": [
        "tokenizer = info.features['text'].encoder"
      ]
    },
    {
      "cell_type": "code",
      "execution_count": 15,
      "metadata": {
        "id": "Bd26JxokKkvW"
      },
      "outputs": [],
      "source": [
        "BUFFER_SIZE = 500\n",
        "BATCH_SIZE = 200\n",
        "\n",
        "train_data, test_data = dataset['train'], dataset['test'], \n",
        "\n",
        "train_dataset = train_data.shuffle(BUFFER_SIZE)\n",
        "\n",
        "train_dataset = train_dataset.padded_batch(BATCH_SIZE)\n",
        "test_dataset = test_data.padded_batch(BATCH_SIZE)"
      ]
    },
    {
      "cell_type": "code",
      "execution_count": 16,
      "metadata": {
        "id": "0YbX90_9KpNV"
      },
      "outputs": [],
      "source": [
        "import tensorflow as tf\n",
        "\n",
        "embedding_dim = 32\n",
        "lstm_dim = 32\n",
        "dense_dim = 32\n",
        "\n",
        "model = tf.keras.Sequential([\n",
        "    tf.keras.layers.Embedding(tokenizer.vocab_size, embedding_dim),\n",
        "    tf.keras.layers.Bidirectional(tf.keras.layers.LSTM(lstm_dim)),\n",
        "    tf.keras.layers.Dense(dense_dim, activation='relu'),\n",
        "    tf.keras.layers.Dense(1, activation='sigmoid')\n",
        "])"
      ]
    },
    {
      "cell_type": "code",
      "execution_count": 17,
      "metadata": {
        "colab": {
          "base_uri": "https://localhost:8080/"
        },
        "id": "0WbxJ8UZKtOA",
        "outputId": "275a28ef-4ccf-4ce5-dcbf-406f577e0713"
      },
      "outputs": [
        {
          "output_type": "stream",
          "name": "stdout",
          "text": [
            "Model: \"sequential_2\"\n",
            "_________________________________________________________________\n",
            " Layer (type)                Output Shape              Param #   \n",
            "=================================================================\n",
            " embedding_2 (Embedding)     (None, None, 32)          261920    \n",
            "                                                                 \n",
            " bidirectional_2 (Bidirectio  (None, 64)               16640     \n",
            " nal)                                                            \n",
            "                                                                 \n",
            " dense_4 (Dense)             (None, 32)                2080      \n",
            "                                                                 \n",
            " dense_5 (Dense)             (None, 1)                 33        \n",
            "                                                                 \n",
            "=================================================================\n",
            "Total params: 280,673\n",
            "Trainable params: 280,673\n",
            "Non-trainable params: 0\n",
            "_________________________________________________________________\n"
          ]
        }
      ],
      "source": [
        "model.summary()"
      ]
    },
    {
      "cell_type": "code",
      "execution_count": 18,
      "metadata": {
        "id": "c4n9Va2KKvpr"
      },
      "outputs": [],
      "source": [
        "model.compile(loss='binary_crossentropy', optimizer='adam', metrics=['accuracy'])"
      ]
    },
    {
      "cell_type": "code",
      "execution_count": 19,
      "metadata": {
        "colab": {
          "base_uri": "https://localhost:8080/"
        },
        "id": "JJRf0S54KyLa",
        "outputId": "99702705-547c-4479-d1d7-81b00c4d4ed2"
      },
      "outputs": [
        {
          "output_type": "stream",
          "name": "stdout",
          "text": [
            "Epoch 1/5\n",
            "125/125 [==============================] - 419s 3s/step - loss: 0.5623 - accuracy: 0.6900 - val_loss: 0.3955 - val_accuracy: 0.8348\n",
            "Epoch 2/5\n",
            "125/125 [==============================] - 411s 3s/step - loss: 0.3355 - accuracy: 0.8700 - val_loss: 0.3904 - val_accuracy: 0.8413\n",
            "Epoch 3/5\n",
            "125/125 [==============================] - 413s 3s/step - loss: 0.2473 - accuracy: 0.9101 - val_loss: 0.3805 - val_accuracy: 0.8505\n",
            "Epoch 4/5\n",
            "125/125 [==============================] - 417s 3s/step - loss: 0.2016 - accuracy: 0.9304 - val_loss: 0.4004 - val_accuracy: 0.8416\n",
            "Epoch 5/5\n",
            "125/125 [==============================] - 410s 3s/step - loss: 0.1793 - accuracy: 0.9373 - val_loss: 0.4281 - val_accuracy: 0.8505\n"
          ]
        }
      ],
      "source": [
        "history = model.fit(train_dataset, epochs=5, validation_data=test_dataset)"
      ]
    },
    {
      "cell_type": "code",
      "execution_count": 20,
      "metadata": {
        "id": "Gx2XFSTiK33Z",
        "colab": {
          "base_uri": "https://localhost:8080/",
          "height": 541
        },
        "outputId": "ab2869ef-224a-41a2-cf54-0c5ff6d10944"
      },
      "outputs": [
        {
          "output_type": "display_data",
          "data": {
            "text/plain": [
              "<Figure size 432x288 with 1 Axes>"
            ],
            "image/png": "[encoded data removed]"
          },
          "metadata": {
            "needs_background": "light"
          }
        },
        {
          "output_type": "display_data",
          "data": {
            "text/plain": [
              "<Figure size 432x288 with 1 Axes>"
            ],
            "image/png": "[encoded data removed]"
          },
          "metadata": {
            "needs_background": "light"
          }
        }
      ],
      "source": [
        "import matplotlib.pyplot as plt\n",
        "\n",
        "def plot_graphs(history, string):\n",
        "  plt.plot(history.history[string])\n",
        "  plt.plot(history.history['val_'+string])\n",
        "  plt.xlabel(\"Epochs\")\n",
        "  plt.ylabel(string)\n",
        "  plt.legend([string, 'val_'+string])\n",
        "  plt.show()\n",
        " \n",
        "plot_graphs(history, \"accuracy\")\n",
        "plot_graphs(history, \"loss\")"
      ]
    },
    {
      "cell_type": "code",
      "source": [],
      "metadata": {
        "id": "BTAYN-iIqqfL"
      },
      "execution_count": null,
      "outputs": []
    }
  ],
  "metadata": {
    "colab": {
      "provenance": []
    },
    "kernelspec": {
      "display_name": "Python 3",
      "name": "python3"
    },
    "language_info": {
      "name": "python"
    }
  },
  "nbformat": 4,
  "nbformat_minor": 0
}