{
  "nbformat": 4,
  "nbformat_minor": 0,
  "metadata": {
    "colab": {
      "provenance": []
    },
    "kernelspec": {
      "name": "python3",
      "display_name": "Python 3"
    },
    "language_info": {
      "name": "python"
    }
  },
  "cells": [
    {
      "cell_type": "code",
      "execution_count": 2,
      "metadata": {
        "colab": {
          "base_uri": "https://localhost:8080/"
        },
        "id": "-Ce3d2bePNjN",
        "outputId": "5f7a85f1-e2c4-4631-cfed-46c3e29e7991"
      },
      "outputs": [
        {
          "output_type": "stream",
          "name": "stderr",
          "text": [
            "WARNING:absl:TFDS datasets with text encoding are deprecated and will be removed in a future version. Instead, you should use the plain text version and tokenize the text using `tensorflow_text` (See: https://www.tensorflow.org/tutorials/tensorflow_text/intro#tfdata_example)\n"
          ]
        }
      ],
      "source": [
        "import tensorflow_datasets as tfds\n",
        "\n",
        "dataset, info = tfds.load('imdb_reviews/subwords8k', with_info=True, as_supervised=True)"
      ]
    },
    {
      "cell_type": "code",
      "source": [
        "tokenizer = info.features['text'].encoder"
      ],
      "metadata": {
        "id": "bTJks4uOPUPx"
      },
      "execution_count": 3,
      "outputs": []
    },
    {
      "cell_type": "code",
      "source": [
        "BUFFER_SIZE = 10000\n",
        "BATCH_SIZE = 256\n",
        "\n",
        "train_data, test_data = dataset['train'], dataset['test'], \n",
        "\n",
        "train_dataset = train_data.shuffle(BUFFER_SIZE)\n",
        "\n",
        "train_dataset = train_dataset.padded_batch(BATCH_SIZE)\n",
        "test_dataset = test_data.padded_batch(BATCH_SIZE)"
      ],
      "metadata": {
        "id": "E13rCb6tPXDO"
      },
      "execution_count": 4,
      "outputs": []
    },
    {
      "cell_type": "code",
      "source": [
        "import tensorflow as tf\n",
        "import numpy as np\n",
        "\n",
        "batch_size = 1\n",
        "timesteps = 20\n",
        "features = 20\n",
        "filters = 128\n",
        "kernel_size = 5\n",
        "\n",
        "print(f'batch_size: {batch_size}')\n",
        "print(f'timesteps (sequence length): {timesteps}')\n",
        "print(f'features (embedding size): {features}')\n",
        "print(f'filters: {filters}')\n",
        "print(f'kernel_size: {kernel_size}')\n",
        "\n",
        "random_input = np.random.rand(batch_size,timesteps,features)\n",
        "print(f'shape of input array: {random_input.shape}')\n",
        "\n",
        "conv1d = tf.keras.layers.Conv1D(filters=filters, kernel_size=kernel_size, activation='relu')\n",
        "result = conv1d(random_input)\n",
        "print(f'shape of conv1d output: {result.shape}')\n",
        "\n",
        "\n",
        "gmp = tf.keras.layers.GlobalMaxPooling1D()\n",
        "result = gmp(result)\n",
        "print(f'shape of global max pooling output: {result.shape}')"
      ],
      "metadata": {
        "id": "Iio4cJDrPauc",
        "colab": {
          "base_uri": "https://localhost:8080/"
        },
        "outputId": "e72ee077-049b-49e0-af23-8063fb94f6ea"
      },
      "execution_count": 5,
      "outputs": [
        {
          "output_type": "stream",
          "name": "stdout",
          "text": [
            "batch_size: 1\n",
            "timesteps (sequence length): 20\n",
            "features (embedding size): 20\n",
            "filters: 128\n",
            "kernel_size: 5\n",
            "shape of input array: (1, 20, 20)\n",
            "shape of conv1d output: (1, 16, 128)\n",
            "shape of global max pooling output: (1, 128)\n"
          ]
        }
      ]
    },
    {
      "cell_type": "code",
      "source": [
        "embedding_dim = 64\n",
        "filters = 128\n",
        "kernel_size = 5\n",
        "dense_dim = 64\n",
        "\n",
        "model = tf.keras.Sequential([\n",
        "    tf.keras.layers.Embedding(tokenizer.vocab_size, embedding_dim),\n",
        "    tf.keras.layers.Conv1D(filters=filters, kernel_size=kernel_size, activation='relu'),\n",
        "    tf.keras.layers.GlobalMaxPooling1D(),\n",
        "    tf.keras.layers.Dense(dense_dim, activation='relu'),\n",
        "    tf.keras.layers.Dense(1, activation='sigmoid')\n",
        "])"
      ],
      "metadata": {
        "id": "Xho23yX3PbDh"
      },
      "execution_count": 6,
      "outputs": []
    },
    {
      "cell_type": "code",
      "source": [
        "model.summary()"
      ],
      "metadata": {
        "id": "1xNN5fhrPivA",
        "colab": {
          "base_uri": "https://localhost:8080/"
        },
        "outputId": "0d67846f-6985-454c-be5b-4e5cb638a25c"
      },
      "execution_count": 7,
      "outputs": [
        {
          "output_type": "stream",
          "name": "stdout",
          "text": [
            "Model: \"sequential\"\n",
            "_________________________________________________________________\n",
            " Layer (type)                Output Shape              Param #   \n",
            "=================================================================\n",
            " embedding (Embedding)       (None, None, 64)          523840    \n",
            "                                                                 \n",
            " conv1d_1 (Conv1D)           (None, None, 128)         41088     \n",
            "                                                                 \n",
            " global_max_pooling1d_1 (Glo  (None, 128)              0         \n",
            " balMaxPooling1D)                                                \n",
            "                                                                 \n",
            " dense (Dense)               (None, 64)                8256      \n",
            "                                                                 \n",
            " dense_1 (Dense)             (None, 1)                 65        \n",
            "                                                                 \n",
            "=================================================================\n",
            "Total params: 573,249\n",
            "Trainable params: 573,249\n",
            "Non-trainable params: 0\n",
            "_________________________________________________________________\n"
          ]
        }
      ]
    },
    {
      "cell_type": "code",
      "source": [
        "model.compile(loss='binary_crossentropy', optimizer='adam', metrics=['accuracy'])"
      ],
      "metadata": {
        "id": "8kzRrz73PixJ"
      },
      "execution_count": 8,
      "outputs": []
    },
    {
      "cell_type": "code",
      "source": [
        "history = model.fit(train_dataset, epochs=10, validation_data=test_dataset)"
      ],
      "metadata": {
        "id": "j5Q-A3X3PqeP",
        "colab": {
          "base_uri": "https://localhost:8080/"
        },
        "outputId": "8a07b6b2-44fc-4e28-9f49-1195e15b178e"
      },
      "execution_count": 9,
      "outputs": [
        {
          "output_type": "stream",
          "name": "stdout",
          "text": [
            "Epoch 1/10\n",
            "98/98 [==============================] - 328s 3s/step - loss: 0.6109 - accuracy: 0.6578 - val_loss: 0.4184 - val_accuracy: 0.8104\n",
            "Epoch 2/10\n",
            "98/98 [==============================] - 320s 3s/step - loss: 0.2905 - accuracy: 0.8774 - val_loss: 0.2756 - val_accuracy: 0.8840\n",
            "Epoch 3/10\n",
            "98/98 [==============================] - 326s 3s/step - loss: 0.1486 - accuracy: 0.9488 - val_loss: 0.2636 - val_accuracy: 0.8932\n",
            "Epoch 4/10\n",
            "98/98 [==============================] - 328s 3s/step - loss: 0.0622 - accuracy: 0.9872 - val_loss: 0.2954 - val_accuracy: 0.8908\n",
            "Epoch 5/10\n",
            "98/98 [==============================] - 323s 3s/step - loss: 0.0204 - accuracy: 0.9982 - val_loss: 0.3190 - val_accuracy: 0.8922\n",
            "Epoch 6/10\n",
            "98/98 [==============================] - 325s 3s/step - loss: 0.0072 - accuracy: 0.9998 - val_loss: 0.3445 - val_accuracy: 0.8924\n",
            "Epoch 7/10\n",
            "98/98 [==============================] - 325s 3s/step - loss: 0.0038 - accuracy: 0.9998 - val_loss: 0.3645 - val_accuracy: 0.8916\n",
            "Epoch 8/10\n",
            "98/98 [==============================] - 326s 3s/step - loss: 0.0023 - accuracy: 1.0000 - val_loss: 0.3815 - val_accuracy: 0.8918\n",
            "Epoch 9/10\n",
            "98/98 [==============================] - 338s 3s/step - loss: 0.0014 - accuracy: 1.0000 - val_loss: 0.3959 - val_accuracy: 0.8914\n",
            "Epoch 10/10\n",
            "98/98 [==============================] - 326s 3s/step - loss: 9.7833e-04 - accuracy: 1.0000 - val_loss: 0.4084 - val_accuracy: 0.8914\n"
          ]
        }
      ]
    },
    {
      "cell_type": "code",
      "source": [
        "import matplotlib.pyplot as plt\n",
        "\n",
        "def plot_graphs(history, string):\n",
        "  plt.plot(history.history[string])\n",
        "  plt.plot(history.history['val_'+string])\n",
        "  plt.xlabel(\"Epochs\")\n",
        "  plt.ylabel(string)\n",
        "  plt.legend([string, 'val_'+string])\n",
        "  plt.show()\n",
        "\n",
        "plot_graphs(history, \"accuracy\")\n",
        "plot_graphs(history, \"loss\")"
      ],
      "metadata": {
        "id": "g1HBKFkbPqvt",
        "colab": {
          "base_uri": "https://localhost:8080/",
          "height": 541
        },
        "outputId": "00f94ba5-b8c1-49a6-f6d0-be5d581ec2f2"
      },
      "execution_count": 10,
      "outputs": [
        {
          "output_type": "display_data",
          "data": {
            "text/plain": [
              "<Figure size 432x288 with 1 Axes>"
            ],
            "image/png": "[encoded data removed]"
          },
          "metadata": {
            "needs_background": "light"
          }
        },
        {
          "output_type": "display_data",
          "data": {
            "text/plain": [
              "<Figure size 432x288 with 1 Axes>"
            ],
            "image/png": "[encoded data removed]"
          },
          "metadata": {
            "needs_background": "light"
          }
        }
      ]
    },
    {
      "cell_type": "code",
      "source": [],
      "metadata": {
        "id": "q3yRCuHThaBk"
      },
      "execution_count": null,
      "outputs": []
    },
    {
      "cell_type": "markdown",
      "source": [
        "We are overfitting as well as having large validation loss"
      ],
      "metadata": {
        "id": "0KBxHtilhfDe"
      }
    },
    {
      "cell_type": "code",
      "source": [],
      "metadata": {
        "id": "Hev-iJishlLH"
      },
      "execution_count": null,
      "outputs": []
    }
  ]
}