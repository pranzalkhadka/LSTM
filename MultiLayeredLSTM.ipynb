{
  "cells": [
    {
      "cell_type": "code",
      "execution_count": 1,
      "metadata": {
        "colab": {
          "base_uri": "https://localhost:8080/"
        },
        "id": "tRG7tLi5N9TH",
        "outputId": "20d057b8-3aa9-4500-8527-ed87533bf92f"
      },
      "outputs": [
        {
          "output_type": "stream",
          "name": "stderr",
          "text": [
            "WARNING:absl:TFDS datasets with text encoding are deprecated and will be removed in a future version. Instead, you should use the plain text version and tokenize the text using `tensorflow_text` (See: https://www.tensorflow.org/tutorials/tensorflow_text/intro#tfdata_example)\n"
          ]
        }
      ],
      "source": [
        "import tensorflow_datasets as tfds\n",
        "\n",
        "dataset, info = tfds.load('imdb_reviews/subwords8k', with_info=True, as_supervised=True)\n",
        "\n",
        "tokenizer = info.features['text'].encoder"
      ]
    },
    {
      "cell_type": "code",
      "execution_count": 8,
      "metadata": {
        "id": "tXRh_7bZOC8w"
      },
      "outputs": [],
      "source": [
        "BUFFER_SIZE = 10000\n",
        "BATCH_SIZE = 256\n",
        "\n",
        "train_data, test_data = dataset['train'], dataset['test'], \n",
        "\n",
        "train_dataset = train_data.shuffle(BUFFER_SIZE)\n",
        "\n",
        "train_dataset = train_dataset.padded_batch(BATCH_SIZE)\n",
        "test_dataset = test_data.padded_batch(BATCH_SIZE)"
      ]
    },
    {
      "cell_type": "code",
      "execution_count": 3,
      "metadata": {
        "colab": {
          "base_uri": "https://localhost:8080/"
        },
        "id": "FOPrQwS1OQU-",
        "outputId": "272405b7-e557-4d9f-aa7d-99a2aa22813b"
      },
      "outputs": [
        {
          "output_type": "stream",
          "name": "stdout",
          "text": [
            "batch_size: 1\n",
            "timesteps (sequence length): 20\n",
            "features (embedding size): 16\n",
            "lstm output units: 8\n",
            "shape of input array: (1, 20, 16)\n",
            "shape of lstm output(return_sequences=False): (1, 8)\n",
            "shape of lstm output(return_sequences=True): (1, 20, 8)\n"
          ]
        }
      ],
      "source": [
        "import tensorflow as tf\n",
        "import numpy as np\n",
        "\n",
        "batch_size = 1\n",
        "timesteps = 20\n",
        "features = 16\n",
        "lstm_dim = 8\n",
        "\n",
        "print(f'batch_size: {batch_size}')\n",
        "print(f'timesteps (sequence length): {timesteps}')\n",
        "print(f'features (embedding size): {features}')\n",
        "print(f'lstm output units: {lstm_dim}')\n",
        "\n",
        "random_input = np.random.rand(batch_size,timesteps,features)\n",
        "print(f'shape of input array: {random_input.shape}')\n",
        "\n",
        "lstm = tf.keras.layers.LSTM(lstm_dim)\n",
        "result = lstm(random_input)\n",
        "print(f'shape of lstm output(return_sequences=False): {result.shape}')\n",
        "\n",
        "lstm_rs = tf.keras.layers.LSTM(lstm_dim, return_sequences=True)\n",
        "result = lstm_rs(random_input)\n",
        "print(f'shape of lstm output(return_sequences=True): {result.shape}')"
      ]
    },
    {
      "cell_type": "code",
      "execution_count": 9,
      "metadata": {
        "id": "yvhsIR5nOQX2"
      },
      "outputs": [],
      "source": [
        "embedding_dim = 16\n",
        "lstm1_dim = 16\n",
        "lstm2_dim = 16\n",
        "dense_dim = 16\n",
        "\n",
        "model = tf.keras.Sequential([\n",
        "    tf.keras.layers.Embedding(tokenizer.vocab_size, embedding_dim),\n",
        "    tf.keras.layers.Bidirectional(tf.keras.layers.LSTM(lstm1_dim, return_sequences=True)),\n",
        "    tf.keras.layers.Bidirectional(tf.keras.layers.LSTM(lstm2_dim)),\n",
        "    tf.keras.layers.Dense(dense_dim, activation='relu'),\n",
        "    tf.keras.layers.Dense(1, activation='sigmoid')\n",
        "])"
      ]
    },
    {
      "cell_type": "code",
      "execution_count": 10,
      "metadata": {
        "colab": {
          "base_uri": "https://localhost:8080/"
        },
        "id": "iWit4MiYOQab",
        "outputId": "08320bce-9e27-4355-d9f6-fe659190063a"
      },
      "outputs": [
        {
          "output_type": "stream",
          "name": "stdout",
          "text": [
            "Model: \"sequential_1\"\n",
            "_________________________________________________________________\n",
            " Layer (type)                Output Shape              Param #   \n",
            "=================================================================\n",
            " embedding_1 (Embedding)     (None, None, 16)          130960    \n",
            "                                                                 \n",
            " bidirectional_2 (Bidirectio  (None, None, 32)         4224      \n",
            " nal)                                                            \n",
            "                                                                 \n",
            " bidirectional_3 (Bidirectio  (None, 32)               6272      \n",
            " nal)                                                            \n",
            "                                                                 \n",
            " dense_2 (Dense)             (None, 16)                528       \n",
            "                                                                 \n",
            " dense_3 (Dense)             (None, 1)                 17        \n",
            "                                                                 \n",
            "=================================================================\n",
            "Total params: 142,001\n",
            "Trainable params: 142,001\n",
            "Non-trainable params: 0\n",
            "_________________________________________________________________\n"
          ]
        }
      ],
      "source": [
        "model.summary()"
      ]
    },
    {
      "cell_type": "code",
      "execution_count": 11,
      "metadata": {
        "id": "DNd-cmYFOQdE"
      },
      "outputs": [],
      "source": [
        "model.compile(loss='binary_crossentropy', optimizer='adam', metrics=['accuracy'])"
      ]
    },
    {
      "cell_type": "code",
      "execution_count": 12,
      "metadata": {
        "colab": {
          "base_uri": "https://localhost:8080/"
        },
        "id": "zsBm18t5Oi1b",
        "outputId": "c8d27d65-f875-416b-d2dd-a85402292c9e"
      },
      "outputs": [
        {
          "output_type": "stream",
          "name": "stdout",
          "text": [
            "Epoch 1/5\n",
            "98/98 [==============================] - 576s 6s/step - loss: 0.6158 - accuracy: 0.6405 - val_loss: 0.4482 - val_accuracy: 0.8048\n",
            "Epoch 2/5\n",
            "98/98 [==============================] - 561s 6s/step - loss: 0.3568 - accuracy: 0.8563 - val_loss: 0.4101 - val_accuracy: 0.8227\n",
            "Epoch 3/5\n",
            "98/98 [==============================] - 581s 6s/step - loss: 0.2889 - accuracy: 0.8898 - val_loss: 0.3946 - val_accuracy: 0.8500\n",
            "Epoch 4/5\n",
            "98/98 [==============================] - 574s 6s/step - loss: 0.2145 - accuracy: 0.9243 - val_loss: 0.4435 - val_accuracy: 0.8277\n",
            "Epoch 5/5\n",
            "98/98 [==============================] - 569s 6s/step - loss: 0.1773 - accuracy: 0.9394 - val_loss: 0.4596 - val_accuracy: 0.8358\n"
          ]
        }
      ],
      "source": [
        "history = model.fit(train_dataset, epochs=5, validation_data=test_dataset)"
      ]
    },
    {
      "cell_type": "code",
      "execution_count": 13,
      "metadata": {
        "id": "qd8GYrTpOi4K",
        "colab": {
          "base_uri": "https://localhost:8080/",
          "height": 542
        },
        "outputId": "d135bebf-e681-4c6e-f43a-62967e4e837e"
      },
      "outputs": [
        {
          "output_type": "display_data",
          "data": {
            "text/plain": [
              "<Figure size 432x288 with 1 Axes>"
            ],
            "image/png": "[encoded data removed]"
          },
          "metadata": {
            "needs_background": "light"
          }
        },
        {
          "output_type": "display_data",
          "data": {
            "text/plain": [
              "<Figure size 432x288 with 1 Axes>"
            ],
            "image/png": "[encoded data removed]"
          },
          "metadata": {
            "needs_background": "light"
          }
        }
      ],
      "source": [
        "import matplotlib.pyplot as plt\n",
        "\n",
        "def plot_graphs(history, string):\n",
        "  plt.plot(history.history[string])\n",
        "  plt.plot(history.history['val_'+string])\n",
        "  plt.xlabel(\"Epochs\")\n",
        "  plt.ylabel(string)\n",
        "  plt.legend([string, 'val_'+string])\n",
        "  plt.show()\n",
        "\n",
        "plot_graphs(history, \"accuracy\")\n",
        "plot_graphs(history, \"loss\")"
      ]
    },
    {
      "cell_type": "code",
      "execution_count": null,
      "metadata": {
        "id": "R6TPzf8VOi8Z"
      },
      "outputs": [],
      "source": []
    }
  ],
  "metadata": {
    "colab": {
      "provenance": []
    },
    "kernelspec": {
      "display_name": "Python 3",
      "name": "python3"
    },
    "language_info": {
      "name": "python"
    }
  },
  "nbformat": 4,
  "nbformat_minor": 0
}